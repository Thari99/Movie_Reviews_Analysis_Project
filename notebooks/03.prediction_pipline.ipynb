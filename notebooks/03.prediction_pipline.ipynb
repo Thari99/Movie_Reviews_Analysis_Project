{
 "cells": [
  {
   "cell_type": "code",
   "execution_count": 40,
   "id": "38cce229-924b-4512-8132-981d1edce632",
   "metadata": {},
   "outputs": [],
   "source": [
    "import numpy as np\n",
    "import pandas as pd\n",
    "import re\n",
    "import string\n",
    "import pickle"
   ]
  },
  {
   "cell_type": "code",
   "execution_count": 41,
   "id": "d5bfd79b-8ad7-466d-a51b-6193a58f1265",
   "metadata": {},
   "outputs": [],
   "source": [
    "def remove_symbols(text):\n",
    "    for punctuation in string.punctuation:\n",
    "        text = text.replace(punctuation, '')\n",
    "    return text\n"
   ]
  },
  {
   "cell_type": "code",
   "execution_count": 42,
   "id": "07bc0260-7cfe-4308-94d1-d7fa8d0256df",
   "metadata": {},
   "outputs": [],
   "source": [
    "with open('../static/model/model.pickle','rb') as f:\n",
    "    model=pickle.load(f)"
   ]
  },
  {
   "cell_type": "code",
   "execution_count": 43,
   "id": "8706906f-83be-4cc9-9794-8eeb8475fd72",
   "metadata": {},
   "outputs": [],
   "source": [
    "with open('../static/model/corpora/stopwords/english','r') as file:\n",
    "    sw = file.read().splitlines()"
   ]
  },
  {
   "cell_type": "code",
   "execution_count": 44,
   "id": "ec37eeaa-196c-492f-83bf-f05dbda6f3b8",
   "metadata": {},
   "outputs": [],
   "source": [
    "vocab = pd.read_csv('../static/model/vocabulary.txt', header=None)\n",
    "tokens = vocab[0].tolist()"
   ]
  },
  {
   "cell_type": "code",
   "execution_count": 45,
   "id": "7d5a99ff-60b7-41fe-88c7-682ac0595db4",
   "metadata": {},
   "outputs": [],
   "source": [
    "from nltk.stem import PorterStemmer\n",
    "ps = PorterStemmer()"
   ]
  },
  {
   "cell_type": "code",
   "execution_count": 46,
   "id": "78c3c2b0-de32-43b2-9ec3-61e73f9b852d",
   "metadata": {},
   "outputs": [],
   "source": [
    "def preprocessing(text):\n",
    "    data = pd.DataFrame([text],columns=['tweet'])\n",
    "    data[\"tweet\"] = data[\"tweet\"].apply(lambda x: \" \".join(x.lower() for x in x.split()))\n",
    "    data[\"tweet\"] = data['tweet'].apply(lambda x: \" \".join(re.sub(r'^https?:\\/\\/.*[\\r\\n]*', '',x,flags=re.MULTILINE)for x in x.split()))\n",
    "    data[\"tweet\"]=data[\"tweet\"].apply(remove_symbols)\n",
    "    data[\"tweet\"]= data['tweet'].str.replace('\\d+','',regex=True)\n",
    "    data[\"tweet\"] = data[\"tweet\"].apply(lambda x: \" \".join([word for word in x.split() if word not in sw]))\n",
    "    data[\"tweet\"] = data[\"tweet\"].apply(lambda x: \" \".join(ps.stem(x) for x in x.split()))\n",
    "    return data[\"tweet\"]"
   ]
  },
  {
   "cell_type": "code",
   "execution_count": 47,
   "id": "24908c72-a371-4c67-b9ae-caffd9c72699",
   "metadata": {},
   "outputs": [],
   "source": [
    "def vectorizer(ds, vocabulary):\n",
    "    vectorized_lst = []\n",
    "\n",
    "    for sentence in ds:\n",
    "        sentence_lst = np.zeros(len(vocabulary))\n",
    "\n",
    "        for i in range(len(vocabulary)):\n",
    "            if vocabulary[i] in sentence.split():\n",
    "                sentence_lst[i] = 1\n",
    "        vectorized_lst.append(sentence_lst)\n",
    "    vectorized_list_new = np.asarray(vectorized_lst,dtype=np.float32)\n",
    "\n",
    "    return vectorized_list_new"
   ]
  },
  {
   "cell_type": "code",
   "execution_count": 51,
   "id": "ff612fbb-7813-4645-b56c-f6f94d3aa71a",
   "metadata": {},
   "outputs": [],
   "source": [
    "def get_Prediction(vectorized_text):\n",
    "    prediction = model.predict(vectorized_text)\n",
    "    if prediction ==1:\n",
    "        return 'negative'\n",
    "    else:\n",
    "        return 'postive'"
   ]
  },
  {
   "cell_type": "code",
   "execution_count": 59,
   "id": "890c67b8-03a4-4905-9991-8fda8c970e57",
   "metadata": {},
   "outputs": [
    {
     "data": {
      "text/plain": [
       "'postive'"
      ]
     },
     "execution_count": 59,
     "metadata": {},
     "output_type": "execute_result"
    }
   ],
   "source": [
    "txt = \"nice film. i liked it\"\n",
    "preprocessed_text = preprocessing(txt)\n",
    "vectorized_text = vectorizer(preprocessed_text, tokens)\n",
    "prediction = get_Prediction(vectorized_text)\n",
    "prediction"
   ]
  },
  {
   "cell_type": "code",
   "execution_count": null,
   "id": "324a1aac-e26e-481f-bafd-e2ee92f5a409",
   "metadata": {},
   "outputs": [],
   "source": []
  }
 ],
 "metadata": {
  "kernelspec": {
   "display_name": "Python 3 (ipykernel)",
   "language": "python",
   "name": "python3"
  },
  "language_info": {
   "codemirror_mode": {
    "name": "ipython",
    "version": 3
   },
   "file_extension": ".py",
   "mimetype": "text/x-python",
   "name": "python",
   "nbconvert_exporter": "python",
   "pygments_lexer": "ipython3",
   "version": "3.11.2"
  }
 },
 "nbformat": 4,
 "nbformat_minor": 5
}
